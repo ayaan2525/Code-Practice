{
 "cells": [
  {
   "cell_type": "markdown",
   "id": "837b1f81",
   "metadata": {},
   "source": [
    "# Task 2.1"
   ]
  },
  {
   "cell_type": "code",
   "execution_count": 12,
   "id": "7634784b",
   "metadata": {},
   "outputs": [
    {
     "name": "stdout",
     "output_type": "stream",
     "text": [
      "[1, 2]: Centroid A\n",
      "[1, 4]: Centroid A\n",
      "[1, 0]: Centroid A\n",
      "[4, 2]: Centroid B\n",
      "[4, 4]: Centroid B\n",
      "[4, 0]: Centroid B\n",
      "[2, 1]: Centroid A\n",
      "[8, 2]: Centroid B\n",
      "[8, 4]: Centroid B\n",
      "[8, 0]: Centroid B\n",
      "[10, 2]: Centroid B\n",
      "[10, 4]: Centroid B\n",
      "[10, 0]: Centroid B\n"
     ]
    }
   ],
   "source": [
    "A = [1, 2]\n",
    "B = [4, 2]\n",
    "\n",
    "def euclidean_distance(centroid, point):\n",
    "    distance = ((centroid[0] - point[0]) ** 2 + (centroid[1] - point[1]) ** 2) ** 0.5\n",
    "    return distance\n",
    "\n",
    "points = [[1,2], [1,4],[1,0],[4,2],[4,4],[4,0],[2,1], [8,2],[8,4],[8,0],[10,2],[10,4],[10,0]]\n",
    "\n",
    "assignments = []\n",
    "\n",
    "for i in points:\n",
    "    distanceA = euclidean_distance(A, i)\n",
    "    distanceB = euclidean_distance(B, i)\n",
    "    if distanceA > distanceB:\n",
    "        assignments.append(f\"{i}: Centroid B\")\n",
    "    else:\n",
    "        assignments.append(f\"{i}: Centroid A\")\n",
    "\n",
    "# Print the results after the loop\n",
    "for assignment in assignments:\n",
    "    print(assignment)\n"
   ]
  },
  {
   "cell_type": "code",
   "execution_count": 13,
   "id": "35374dd4",
   "metadata": {},
   "outputs": [
    {
     "name": "stdout",
     "output_type": "stream",
     "text": [
      "Updated Centroid A: [1.25 1.75]\n",
      "Updated Centroid B: [7.33333333 2.        ]\n"
     ]
    }
   ],
   "source": [
    "import numpy as np\n",
    "\n",
    "# Function to calculate the mean of a list of points\n",
    "def calculate_mean(points):\n",
    "    return np.mean(points, axis=0)\n",
    "\n",
    "# Initial centroids\n",
    "A = [1, 2]\n",
    "B = [4, 2]\n",
    "\n",
    "# Initial points and their cluster assignments\n",
    "points = [[1,2], [1,4],[1,0],[4,2],[4,4],[4,0],[2,1], [8,2],[8,4],[8,0],[10,2],[10,4],[10,0]]\n",
    "assignments = []\n",
    "\n",
    "# Maximum number of iterations\n",
    "max_iterations = 1\n",
    "\n",
    "# K-Means algorithm\n",
    "for iteration in range(max_iterations):\n",
    "    # Assign points to clusters\n",
    "    for point in points:\n",
    "        distanceA = euclidean_distance(A, point)\n",
    "        distanceB = euclidean_distance(B, point)\n",
    "        if distanceA > distanceB:\n",
    "            assignments.append(('B', point))\n",
    "        else:\n",
    "            assignments.append(('A', point))\n",
    "\n",
    "    # Calculate new centroids\n",
    "    clusterA_points = [point for cluster, point in assignments if cluster == 'A']\n",
    "    clusterB_points = [point for cluster, point in assignments if cluster == 'B']\n",
    "    A = calculate_mean(clusterA_points)\n",
    "    B = calculate_mean(clusterB_points)\n",
    "\n",
    "# Print the updated centroids\n",
    "print(\"Updated Centroid A:\", A)\n",
    "print(\"Updated Centroid B:\", B)\n"
   ]
  },
  {
   "cell_type": "markdown",
   "id": "81c4132e",
   "metadata": {},
   "source": [
    "# Task 2.1 Second Part"
   ]
  },
  {
   "cell_type": "code",
   "execution_count": 14,
   "id": "33fa9e9c",
   "metadata": {},
   "outputs": [
    {
     "name": "stdout",
     "output_type": "stream",
     "text": [
      "[40, 2]: Centroid B\n",
      "[1, 4]: Centroid A\n",
      "[1, 0]: Centroid A\n",
      "[4, 2]: Centroid A\n",
      "[4, 4]: Centroid A\n",
      "[4, 0]: Centroid A\n",
      "[2, 1]: Centroid A\n",
      "[8, 2]: Centroid A\n",
      "[8, 4]: Centroid A\n",
      "[8, 0]: Centroid A\n",
      "[10, 2]: Centroid A\n",
      "[10, 4]: Centroid A\n",
      "[10, 0]: Centroid A\n"
     ]
    }
   ],
   "source": [
    "A = [1, 2]\n",
    "B = [40, 2]\n",
    "\n",
    "def euclidean_distance(centroid, point):\n",
    "    distance = ((centroid[0] - point[0]) ** 2 + (centroid[1] - point[1]) ** 2) ** 0.5\n",
    "    return distance\n",
    "\n",
    "points = [[40,2], [1,4],[1,0],[4,2],[4,4],[4,0],[2,1], [8,2],[8,4],[8,0],[10,2],[10,4],[10,0]]\n",
    "\n",
    "assignments = []\n",
    "\n",
    "for i in points:\n",
    "    distanceA = euclidean_distance(A, i)\n",
    "    distanceB = euclidean_distance(B, i)\n",
    "    if distanceA > distanceB:\n",
    "        assignments.append(f\"{i}: Centroid B\")\n",
    "    else:\n",
    "        assignments.append(f\"{i}: Centroid A\")\n",
    "\n",
    "# Print the results after the loop\n",
    "for assignment in assignments:\n",
    "    print(assignment)\n"
   ]
  },
  {
   "cell_type": "code",
   "execution_count": 15,
   "id": "9adb4a77",
   "metadata": {},
   "outputs": [
    {
     "name": "stdout",
     "output_type": "stream",
     "text": [
      "Updated Centroid A: [5.83333333 1.91666667]\n",
      "Updated Centroid B: [40.  2.]\n"
     ]
    }
   ],
   "source": [
    "import numpy as np\n",
    "\n",
    "# Function to calculate the mean of a list of points\n",
    "def calculate_mean(points):\n",
    "    return np.mean(points, axis=0)\n",
    "\n",
    "# Initial centroids\n",
    "A = [1, 2]\n",
    "B = [40, 2]\n",
    "\n",
    "# Initial points and their cluster assignments\n",
    "points = [[40,2], [1,4],[1,0],[4,2],[4,4],[4,0],[2,1], [8,2],[8,4],[8,0],[10,2],[10,4],[10,0]]\n",
    "assignments = []\n",
    "\n",
    "# Maximum number of iterations\n",
    "max_iterations = 1\n",
    "\n",
    "# K-Means algorithm\n",
    "for iteration in range(max_iterations):\n",
    "    # Assign points to clusters\n",
    "    for point in points:\n",
    "        distanceA = euclidean_distance(A, point)\n",
    "        distanceB = euclidean_distance(B, point)\n",
    "        if distanceA > distanceB:\n",
    "            assignments.append(('B', point))\n",
    "        else:\n",
    "            assignments.append(('A', point))\n",
    "\n",
    "    # Calculate new centroids\n",
    "    clusterA_points = [point for cluster, point in assignments if cluster == 'A']\n",
    "    clusterB_points = [point for cluster, point in assignments if cluster == 'B']\n",
    "    A = calculate_mean(clusterA_points)\n",
    "    B = calculate_mean(clusterB_points)\n",
    "\n",
    "# Print the updated centroids\n",
    "print(\"Updated Centroid A:\", A)\n",
    "print(\"Updated Centroid B:\", B)\n"
   ]
  },
  {
   "cell_type": "code",
   "execution_count": null,
   "id": "5741121e",
   "metadata": {},
   "outputs": [],
   "source": []
  }
 ],
 "metadata": {
  "kernelspec": {
   "display_name": "Python 3 (ipykernel)",
   "language": "python",
   "name": "python3"
  },
  "language_info": {
   "codemirror_mode": {
    "name": "ipython",
    "version": 3
   },
   "file_extension": ".py",
   "mimetype": "text/x-python",
   "name": "python",
   "nbconvert_exporter": "python",
   "pygments_lexer": "ipython3",
   "version": "3.10.9"
  }
 },
 "nbformat": 4,
 "nbformat_minor": 5
}
